{
  "cells": [
    {
      "cell_type": "markdown",
      "metadata": {
        "id": "view-in-github",
        "colab_type": "text"
      },
      "source": [
        "<a href=\"https://colab.research.google.com/github/Richardesl10/Se-alesysistemasrichard/blob/main/Te_damos_la_bienvenida_a_Colab.ipynb\" target=\"_parent\"><img src=\"https://colab.research.google.com/assets/colab-badge.svg\" alt=\"Open In Colab\"/></a>"
      ]
    },
    {
      "cell_type": "code",
      "source": [
        "x=[0,1,2,3,4,5,6,7]\n",
        "print(x[::-1])"
      ],
      "metadata": {
        "colab": {
          "base_uri": "https://localhost:8080/"
        },
        "id": "Mb_Fn7bypsP7",
        "outputId": "cbc28fbf-8946-4c52-821a-7a2850d41cb5"
      },
      "execution_count": 2,
      "outputs": [
        {
          "output_type": "stream",
          "name": "stdout",
          "text": [
            "[7, 6, 5, 4, 3, 2, 1, 0]\n"
          ]
        }
      ]
    },
    {
      "cell_type": "code",
      "source": [
        "i=7\n",
        "while i>-1:\n",
        "  print(x[i])\n",
        "  i=i-1"
      ],
      "metadata": {
        "colab": {
          "base_uri": "https://localhost:8080/"
        },
        "id": "3U2daoXWqR5y",
        "outputId": "836b6253-d467-4f08-9dea-ae010baf3494"
      },
      "execution_count": 4,
      "outputs": [
        {
          "output_type": "stream",
          "name": "stdout",
          "text": [
            "7\n",
            "6\n",
            "5\n",
            "4\n",
            "3\n",
            "2\n",
            "1\n",
            "0\n"
          ]
        }
      ]
    },
    {
      "cell_type": "code",
      "source": [
        "for i in range(7,-1,-1):\n",
        "  print(x[i])\n",
        ""
      ],
      "metadata": {
        "colab": {
          "base_uri": "https://localhost:8080/"
        },
        "id": "diUxj9srq_v8",
        "outputId": "38aefcea-04b7-4076-8bb5-a2d5491aa08e"
      },
      "execution_count": 5,
      "outputs": [
        {
          "output_type": "stream",
          "name": "stdout",
          "text": [
            "7\n",
            "6\n",
            "5\n",
            "4\n",
            "3\n",
            "2\n",
            "1\n",
            "0\n"
          ]
        }
      ]
    },
    {
      "cell_type": "code",
      "source": [
        "import numpy as np\n",
        "l=np.linspace(7,0,8)\n",
        "print(l)"
      ],
      "metadata": {
        "colab": {
          "base_uri": "https://localhost:8080/"
        },
        "id": "3pqYanhbrI7r",
        "outputId": "0c7f1d00-72a7-424c-ecd7-4dd5addb4d0a"
      },
      "execution_count": 6,
      "outputs": [
        {
          "output_type": "stream",
          "name": "stdout",
          "text": [
            "[7. 6. 5. 4. 3. 2. 1. 0.]\n"
          ]
        }
      ]
    },
    {
      "cell_type": "code",
      "source": [
        "import numpy as np\n",
        "x= np.arange(7,-1,-1)\n",
        "print(x)"
      ],
      "metadata": {
        "colab": {
          "base_uri": "https://localhost:8080/"
        },
        "id": "CW_3llBerWSL",
        "outputId": "79680a3f-2de3-404f-f9c1-2b0c2750f5f5"
      },
      "execution_count": 16,
      "outputs": [
        {
          "output_type": "stream",
          "name": "stdout",
          "text": [
            "[7 6 5 4 3 2 1 0]\n"
          ]
        }
      ]
    },
    {
      "cell_type": "code",
      "source": [
        "x=[[0,1,2,3],[1,2,3,4],[10,20,30]]\n",
        "print(x[2][:2])\n",
        "print(x[0][:4])\n",
        "print(x[1][:3], x[0][:2])"
      ],
      "metadata": {
        "colab": {
          "base_uri": "https://localhost:8080/"
        },
        "id": "2ZisEGlRtpKz",
        "outputId": "5de14fee-8eac-40ed-fc49-3572a284e7cf"
      },
      "execution_count": 17,
      "outputs": [
        {
          "output_type": "stream",
          "name": "stdout",
          "text": [
            "[10, 20]\n",
            "[0, 1, 2, 3]\n",
            "[1, 2, 3] [0, 1]\n"
          ]
        }
      ]
    },
    {
      "cell_type": "code",
      "source": [
        "import numpy as np\n",
        "x=np.array([[0,1,\"richard\",2],[20,50,30,40],[10,20,30]], dtype=object)\n",
        "print(x[0][:3])\n",
        "print(x[1][::-1])\n",
        "print(x[2][::-1],x[1][::-1],x[0][::-1])"
      ],
      "metadata": {
        "colab": {
          "base_uri": "https://localhost:8080/"
        },
        "id": "3ulnl0HFukoz",
        "outputId": "b14ddd17-cdd1-4bc7-ef2a-045f3f633d4b"
      },
      "execution_count": 19,
      "outputs": [
        {
          "output_type": "stream",
          "name": "stdout",
          "text": [
            "[0, 1, 'richard']\n",
            "[40, 30, 50, 20]\n",
            "[30, 20, 10] [40, 30, 50, 20] [2, 'richard', 1, 0]\n"
          ]
        }
      ]
    },
    {
      "cell_type": "code",
      "source": [
        "class persona:\n",
        "  def __init__(self,nombre,edad):\n",
        "    self.nombre = nombre\n",
        "    self.edad = edad\n",
        "  def saludar(self):\n",
        "    print(f\"hola soy {self.nombre} y tengo {self.edad} años \")\n",
        "  def bailar(self):\n",
        "    print(f\"hola soy {self. nombre} y me gusta bailar\")\n",
        "p1 = persona(str(input(\"ingrese su nombre\")), int (input(\"ingrese su edad\")))\n",
        "p1. saludar()\n",
        "p1.bailar()"
      ],
      "metadata": {
        "colab": {
          "base_uri": "https://localhost:8080/"
        },
        "id": "wTk-zQd3xqM7",
        "outputId": "5e468d12-3652-420a-8529-547adfe4e482"
      },
      "execution_count": 24,
      "outputs": [
        {
          "output_type": "stream",
          "name": "stdout",
          "text": [
            "ingrese su nombrecharri\n",
            "ingrese su edad20\n",
            "hola soy charri y tengo 20 años \n",
            "hola soy charri y me gusta bailar\n"
          ]
        }
      ]
    },
    {
      "cell_type": "code",
      "source": [
        "class persona:\n",
        "  def __init__(self,nombre,edad):\n",
        "    self.nombre = nombre\n",
        "    self.edad = edad\n",
        "  def saludar(self):\n",
        "    print(f\"hola soy {self.nombre} y tengo {self.edad} años \")\n",
        "  def bailar(self):\n",
        "    print(f\"hola soy {self. nombre} y me gusta bailar\")\n",
        "p1 = persona(\"charri\",20)\n",
        "p1. saludar()\n",
        "p1.bailar()"
      ],
      "metadata": {
        "colab": {
          "base_uri": "https://localhost:8080/"
        },
        "id": "3mxK7IQXzcT6",
        "outputId": "75426fac-5d64-4d10-aff4-cbf2c9c5bbbc"
      },
      "execution_count": 25,
      "outputs": [
        {
          "output_type": "stream",
          "name": "stdout",
          "text": [
            "hola soy charri y tengo 20 años \n",
            "hola soy charri y me gusta bailar\n"
          ]
        }
      ]
    },
    {
      "cell_type": "code",
      "source": [
        "class persona:\n",
        "  def __init__(self,nombre,edad):\n",
        "    self.nombre = nombre\n",
        "    self.edad = edad\n",
        "  def saludar(self):\n",
        "    print(f\"hola soy {self.nombre} y tengo {self.edad} años \")\n",
        "  def bailar(self):\n",
        "   print(f\"hola soy {self.nombre} y me gusta bailar \")\n",
        "class charri(persona):\n",
        "  def __init__(self,nombre,edad,):\n",
        "    super().__init__(nombre,edad)\n",
        "p1= persona(str(input(\"ingrese su nombre\")), int(input(\"ingrese su edad\")))\n",
        "p2= charri(str(input(\"ingrese su nombre\")), int(input(\"ingrese su edad\")))\n",
        "p1.saludar()\n",
        "p1.bailar()\n",
        "p2.saludar()\n",
        "p2.bailar()\n"
      ],
      "metadata": {
        "colab": {
          "base_uri": "https://localhost:8080/"
        },
        "id": "xcxkWAqjzi0q",
        "outputId": "5458df19-7c6e-4fe6-af30-bfa3b2390c2e"
      },
      "execution_count": 28,
      "outputs": [
        {
          "output_type": "stream",
          "name": "stdout",
          "text": [
            "ingrese su nombremarino\n",
            "ingrese su edad20\n",
            "ingrese su nombrerichard\n",
            "ingrese su edad20\n",
            "hola soy marino y tengo 20 años \n",
            "hola soy marino y me gusta bailar \n",
            "hola soy richard y tengo 20 años \n",
            "hola soy richard y me gusta bailar \n"
          ]
        }
      ]
    },
    {
      "cell_type": "code",
      "source": [
        "a= 5\n",
        "b= 7\n",
        "a,b= b,a\n",
        "print(a,b)"
      ],
      "metadata": {
        "colab": {
          "base_uri": "https://localhost:8080/"
        },
        "id": "yDP97rdl2Flq",
        "outputId": "b2e83829-96dd-4672-a22f-b91952a5fc33"
      },
      "execution_count": 29,
      "outputs": [
        {
          "output_type": "stream",
          "name": "stdout",
          "text": [
            "7 5\n"
          ]
        }
      ]
    },
    {
      "cell_type": "code",
      "source": [
        "number1 = 10\n",
        "number2 = 20\n",
        "def sumar_numeros(number1,number2):\n",
        "  suma= number1+ number2\n",
        "  print(suma)\n",
        "sumar_numeros(number1,number2)"
      ],
      "metadata": {
        "colab": {
          "base_uri": "https://localhost:8080/"
        },
        "id": "drryAGc72Nqp",
        "outputId": "e3a52a7b-d58b-4078-84d2-380d53afcfad"
      },
      "execution_count": 34,
      "outputs": [
        {
          "output_type": "stream",
          "name": "stdout",
          "text": [
            "30\n"
          ]
        }
      ]
    }
  ],
  "metadata": {
    "colab": {
      "name": "Te damos la bienvenida a Colab",
      "provenance": [],
      "include_colab_link": true
    },
    "kernelspec": {
      "display_name": "Python 3",
      "name": "python3"
    }
  },
  "nbformat": 4,
  "nbformat_minor": 0
}