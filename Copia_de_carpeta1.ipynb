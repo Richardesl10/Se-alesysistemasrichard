{
  "nbformat": 4,
  "nbformat_minor": 0,
  "metadata": {
    "colab": {
      "provenance": [],
      "include_colab_link": true
    },
    "kernelspec": {
      "name": "python3",
      "display_name": "Python 3"
    }
  },
  "cells": [
    {
      "cell_type": "markdown",
      "metadata": {
        "id": "view-in-github",
        "colab_type": "text"
      },
      "source": [
        "<a href=\"https://colab.research.google.com/github/Richardesl10/Se-alesysistemasrichard/blob/main/Copia_de_carpeta1.ipynb\" target=\"_parent\"><img src=\"https://colab.research.google.com/assets/colab-badge.svg\" alt=\"Open In Colab\"/></a>"
      ]
    },
    {
      "cell_type": "code",
      "source": [],
      "metadata": {
        "id": "XkL-D70m7sR4"
      },
      "execution_count": null,
      "outputs": []
    },
    {
      "cell_type": "code",
      "source": [
        "class persona:\n",
        "  def __init__(self,nombre,edad):\n",
        "    self.nombre = nombre\n",
        "    self.edad = edad\n",
        "  def saludar(self):\n",
        "    print(f\"Hola soy {self.nombre} tengo {self.edad} años \")\n",
        "  def bailar(self):\n",
        "    print(f\" hola soy {self.nombre} y estoy bailando\")\n",
        "class charri(persona):\n",
        "  def __init__(self, nombre, edad):\n",
        "    super(). __init__(nombre, edad)\n",
        "p1= persona(\"Gabriel\", 20)\n",
        "p2 = charri(\"Richard\", 22, )\n",
        "p1. saludar()\n",
        "p2. bailar()"
      ],
      "metadata": {
        "colab": {
          "base_uri": "https://localhost:8080/"
        },
        "id": "Rlg-VSVpB9XB",
        "outputId": "6a7af057-d6da-4dc4-8b28-ca3e97584e87"
      },
      "execution_count": 9,
      "outputs": [
        {
          "output_type": "stream",
          "name": "stdout",
          "text": [
            "Hola soy Gabriel tengo 20 años \n",
            " hola soy Richard y estoy bailando\n"
          ]
        }
      ]
    },
    {
      "cell_type": "code",
      "source": [
        "x= [1,2,3,4,5,6,7,8]\n",
        "i=7\n",
        "while i > -1:\n",
        "  print(x[i])\n",
        "  i=i-1"
      ],
      "metadata": {
        "colab": {
          "base_uri": "https://localhost:8080/"
        },
        "id": "kyAuZnMsDbYB",
        "outputId": "9d569ca5-09a1-4da8-a447-64dc25a1f8c4"
      },
      "execution_count": 10,
      "outputs": [
        {
          "output_type": "stream",
          "name": "stdout",
          "text": [
            "8\n",
            "7\n",
            "6\n",
            "5\n",
            "4\n",
            "3\n",
            "2\n",
            "1\n"
          ]
        }
      ]
    },
    {
      "cell_type": "code",
      "source": [
        "for i in range(7,-1,-1):\n",
        "  print(x[i])"
      ],
      "metadata": {
        "colab": {
          "base_uri": "https://localhost:8080/"
        },
        "id": "knPBQzFNF3l3",
        "outputId": "962a6685-6dd8-4bb3-a929-a70bf3421a47"
      },
      "execution_count": 11,
      "outputs": [
        {
          "output_type": "stream",
          "name": "stdout",
          "text": [
            "8\n",
            "7\n",
            "6\n",
            "5\n",
            "4\n",
            "3\n",
            "2\n",
            "1\n"
          ]
        }
      ]
    },
    {
      "cell_type": "code",
      "source": [
        "print(x[::-1])"
      ],
      "metadata": {
        "colab": {
          "base_uri": "https://localhost:8080/"
        },
        "id": "K8RS89KwGCYw",
        "outputId": "50a30965-590f-4c66-fcf6-29fc6a39a74e"
      },
      "execution_count": 12,
      "outputs": [
        {
          "output_type": "stream",
          "name": "stdout",
          "text": [
            "[8, 7, 6, 5, 4, 3, 2, 1]\n"
          ]
        }
      ]
    },
    {
      "cell_type": "code",
      "source": [
        "x=[1,2,3,3]\n",
        "x.reverse()\n",
        "print(x)"
      ],
      "metadata": {
        "colab": {
          "base_uri": "https://localhost:8080/"
        },
        "id": "dqJjy1BPGGyZ",
        "outputId": "ff3d46a1-780e-4b9b-c6af-ccc387934bb4"
      },
      "execution_count": 17,
      "outputs": [
        {
          "output_type": "stream",
          "name": "stdout",
          "text": [
            "[3, 3, 2, 1]\n"
          ]
        }
      ]
    },
    {
      "cell_type": "code",
      "source": [
        "matriz= [[1,2,3,4,],\n",
        "         [5,4,6,7],\n",
        "         [10,2,4,8]]\n",
        "print(matriz[1][:2],matriz[2][:3])\n"
      ],
      "metadata": {
        "colab": {
          "base_uri": "https://localhost:8080/"
        },
        "id": "mcb-EiLEGkVA",
        "outputId": "cae985b9-5873-4e9a-ef6d-8734a3c807f6"
      },
      "execution_count": 20,
      "outputs": [
        {
          "output_type": "stream",
          "name": "stdout",
          "text": [
            "[5, 4] [10, 2, 4]\n"
          ]
        }
      ]
    },
    {
      "cell_type": "code",
      "source": [
        "print(matriz[2][::-1], matriz[1][::-1])"
      ],
      "metadata": {
        "colab": {
          "base_uri": "https://localhost:8080/"
        },
        "id": "IvfBq41oH8MP",
        "outputId": "f463f161-e933-4bd4-ae82-8314bf1813cf"
      },
      "execution_count": 22,
      "outputs": [
        {
          "output_type": "stream",
          "name": "stdout",
          "text": [
            "[8, 4, 2, 10] [7, 6, 4, 5]\n"
          ]
        }
      ]
    },
    {
      "cell_type": "code",
      "source": [
        "dicc = {\"Richard\":20,\"Gabriel\": 22, \"Hector\": 23}\n",
        "print(dicc[\"Richard\"])"
      ],
      "metadata": {
        "colab": {
          "base_uri": "https://localhost:8080/"
        },
        "id": "pWvnRcT7Iqoa",
        "outputId": "cd4a10fb-c055-4e94-a9c7-ce98fa19639f"
      },
      "execution_count": 23,
      "outputs": [
        {
          "output_type": "stream",
          "name": "stdout",
          "text": [
            "20\n"
          ]
        }
      ]
    },
    {
      "cell_type": "code",
      "source": [
        "dicc2 = {\"Real madrid\":{\"Cristiano\": 7, \"edad\":40}, \"Junior\":{\"Teo\":29, \"edad\": 40}}\n",
        "print(dicc2[\"Real madrid\"])\n",
        "print(dicc2[\"Junior\"])"
      ],
      "metadata": {
        "colab": {
          "base_uri": "https://localhost:8080/"
        },
        "id": "iajd0LYKJAyg",
        "outputId": "55e31e6a-a1a9-4ea2-bd87-a71e4cb7759f"
      },
      "execution_count": 27,
      "outputs": [
        {
          "output_type": "stream",
          "name": "stdout",
          "text": [
            "{'Cristiano': 7, 'edad': 40}\n",
            "{'Teo': 29, 'edad': 40}\n"
          ]
        }
      ]
    },
    {
      "cell_type": "code",
      "source": [
        "a= {\"richard\",30,40,50,\"el charri\"}\n",
        "b = {\"erika\",40,30,20}\n",
        "c =  {\"gato\",40,40,30}\n",
        "print (a | b | c)"
      ],
      "metadata": {
        "colab": {
          "base_uri": "https://localhost:8080/"
        },
        "id": "pNFJTEqaKatJ",
        "outputId": "e737a833-5a6c-4f0b-b340-52da3b147f1e"
      },
      "execution_count": 39,
      "outputs": [
        {
          "output_type": "stream",
          "name": "stdout",
          "text": [
            "{'richard', 'gato', 40, 'erika', 'el charri', 50, 20, 30}\n"
          ]
        }
      ]
    },
    {
      "cell_type": "code",
      "source": [
        "x= [[\"Richard\",20,340,20],\n",
        "    [\"gato\",40,50,40],\n",
        "    [\"Erika\",390,40,40]]\n",
        "print(x[2][:3], x[2][::-1])"
      ],
      "metadata": {
        "colab": {
          "base_uri": "https://localhost:8080/"
        },
        "id": "UGN0K9uwNJrJ",
        "outputId": "6e1820e2-514c-41ed-c577-e59208f068dc"
      },
      "execution_count": 40,
      "outputs": [
        {
          "output_type": "stream",
          "name": "stdout",
          "text": [
            "['Erika', 390, 40] [40, 40, 390, 'Erika']\n"
          ]
        }
      ]
    },
    {
      "cell_type": "code",
      "source": [
        "print(x[0][::-1], x[2][::-1], x[1][:4])"
      ],
      "metadata": {
        "colab": {
          "base_uri": "https://localhost:8080/"
        },
        "id": "RmTEf41kODMH",
        "outputId": "86fc73cb-9234-4926-d158-5c977822c3ad"
      },
      "execution_count": 41,
      "outputs": [
        {
          "output_type": "stream",
          "name": "stdout",
          "text": [
            "[20, 340, 20, 'Richard'] [40, 40, 390, 'Erika'] ['gato', 40, 50, 40]\n"
          ]
        }
      ]
    },
    {
      "cell_type": "code",
      "source": [
        "class persona:\n",
        "  def __init__(self,nombre, edad):\n",
        "    self.nombre = nombre\n",
        "    self.edad =  edad\n",
        "  def saludar (self):\n",
        "    print(f\"Hola soy {self.nombre} y tengo {self.edad} años \")\n",
        "  def bailar(self):\n",
        "    print(f\"Hola soy {self. nombre } y voy a bailar \")\n",
        "class charri(persona):\n",
        "  def __init__(self,nombre, edad, profesion):\n",
        "    super(). __init__(nombre, edad,)\n",
        "    self.profesion = profesion\n",
        "p1 = persona(\"Richard\",20)\n",
        "p2 = charri(\"Erika\",20,\"ingeniero electricista\")\n",
        "p1.saludar()\n",
        "p1.bailar()\n",
        "p2.saludar()\n",
        "p2.bailar()\n"
      ],
      "metadata": {
        "colab": {
          "base_uri": "https://localhost:8080/"
        },
        "id": "FK0LC_RfPTs2",
        "outputId": "fac93a08-b41b-4a4f-9150-42b766ee1627"
      },
      "execution_count": 50,
      "outputs": [
        {
          "output_type": "stream",
          "name": "stdout",
          "text": [
            "Hola soy Richard y tengo 20 años \n",
            "Hola soy Richard y voy a bailar \n",
            "Hola soy Erika y tengo 20 años \n",
            "Hola soy Erika y voy a bailar \n"
          ]
        }
      ]
    },
    {
      "cell_type": "code",
      "source": [
        "import numpy as np\n",
        "x= np.array([[1,2,3,4,],[2,3,4,5],[4,5,6,7]])\n",
        "print(x[1][:3])"
      ],
      "metadata": {
        "colab": {
          "base_uri": "https://localhost:8080/"
        },
        "id": "aaTy6bf8TLA_",
        "outputId": "d441e114-5420-4523-d5ae-0de4a71d2b66"
      },
      "execution_count": 52,
      "outputs": [
        {
          "output_type": "stream",
          "name": "stdout",
          "text": [
            "[2 3 4]\n"
          ]
        }
      ]
    },
    {
      "cell_type": "code",
      "source": [
        "import numpy as np\n",
        "x= np.array([[1,2,3,4,4],[5,5,6,7,3],[2,4,5,6,7]])\n",
        "print(x[1][::-1], x[2][::-1], x[0][:5])"
      ],
      "metadata": {
        "colab": {
          "base_uri": "https://localhost:8080/"
        },
        "id": "t4iVwIRfUUhJ",
        "outputId": "4d1c188f-c1a0-4ecd-e7b6-e3a643d82caf"
      },
      "execution_count": 55,
      "outputs": [
        {
          "output_type": "stream",
          "name": "stdout",
          "text": [
            "[3 7 6 5 5] [7 6 5 4 2] [1 2 3 4 4]\n"
          ]
        }
      ]
    }
  ]
}